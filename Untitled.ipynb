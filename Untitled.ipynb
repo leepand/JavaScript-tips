{
 "cells": [
  {
   "cell_type": "code",
   "execution_count": 1,
   "metadata": {},
   "outputs": [
    {
     "name": "stdout",
     "output_type": "stream",
     "text": [
      "Writing form_layer_open.js\n"
     ]
    }
   ],
   "source": [
    "%%file form_layer_open.js\n",
    "//弹窗编辑/form\n",
    "$(\"body\").on(\"click\",\".edit_desc\",function(){\n",
    "        \n",
    "      var index =  layer.open({\n",
    "        id:1,\n",
    "        type: 1,\n",
    "        title:'Update Description',\n",
    "        skin:'layui-layer-rim',\n",
    "        area:['450px', 'auto'],\n",
    "        \n",
    "        content: ' <div class=\"row\" style=\"width: 420px;  margin-left:7px; margin-top:10px;\">'\n",
    "            +'<div class=\"col-sm-12\">'\n",
    "            +'<div class=\"input-group\">'\n",
    "            +'<span class=\"input-group-addon\"> 新 密 码   :</span>'\n",
    "            +'<input id=\"firstpwd\" type=\"password\" class=\"form-control\" placeholder=\"请输入密码\">'\n",
    "            +'</div>'\n",
    "            +'</div>'\n",
    "              +'<div class=\"col-sm-12\" style=\"margin-top: 10px\">'\n",
    "              +'<div class=\"input-group\">'\n",
    "              +'<span class=\"input-group-addon\">确认密码:</span>'\n",
    "              +'<input id=\"secondpwd\" type=\"password\" class=\"form-control\" placeholder=\"请再输入一次密码\">'\n",
    "              +'</div>'\n",
    "              +'</div>'\n",
    "              +'</div>'\n",
    "        ,\n",
    "        btn:['保存','取消'],\n",
    "        btn1: function (index,layero) {\n",
    "        },\n",
    "        btn2:function (index,layero) {\n",
    "             layer.close(index);\n",
    "        }\n",
    " \n",
    "    });    \n",
    "        \n",
    "    })"
   ]
  },
  {
   "cell_type": "code",
   "execution_count": null,
   "metadata": {},
   "outputs": [],
   "source": []
  }
 ],
 "metadata": {
  "kernelspec": {
   "display_name": "Python 2",
   "language": "python",
   "name": "python2"
  },
  "language_info": {
   "codemirror_mode": {
    "name": "ipython",
    "version": 2
   },
   "file_extension": ".py",
   "mimetype": "text/x-python",
   "name": "python",
   "nbconvert_exporter": "python",
   "pygments_lexer": "ipython2",
   "version": "2.7.13"
  }
 },
 "nbformat": 4,
 "nbformat_minor": 2
}
