{
 "cells": [
  {
   "cell_type": "code",
   "execution_count": 1,
   "metadata": {},
   "outputs": [
    {
     "name": "stdout",
     "output_type": "stream",
     "text": [
      "Overwriting form_layer_open.js\n"
     ]
    }
   ],
   "source": [
    "%%file form_layer_open.js\n",
    "//弹窗编辑/form\n",
    "$(\"body\").on(\"click\",\".edit_desc\",function(){\n",
    "        \n",
    "      var index =  layer.open({\n",
    "        id:1,\n",
    "        type: 1,\n",
    "        title:'Update Description',\n",
    "        skin:'layui-layer-rim',\n",
    "        area:['450px', 'auto'],\n",
    "        \n",
    "        content: ' <div class=\"row\" style=\"width: 420px;  margin-left:7px; margin-top:10px;\">'\n",
    "            +'<div class=\"col-sm-12\">'\n",
    "            +'<div class=\"input-group\">'\n",
    "            +'<span class=\"input-group-addon\"> 新 密 码   :</span>'\n",
    "            +'<input id=\"firstpwd\" type=\"password\" class=\"form-control\" placeholder=\"请输入密码\">'\n",
    "            +'</div>'\n",
    "            +'</div>'\n",
    "              +'<div class=\"col-sm-12\" style=\"margin-top: 10px\">'\n",
    "              +'<div class=\"input-group\">'\n",
    "              +'<span class=\"input-group-addon\">确认密码:</span>'\n",
    "              +'<input id=\"secondpwd\" type=\"password\" class=\"form-control\" placeholder=\"请再输入一次密码\">'\n",
    "              +'</div>'\n",
    "              +'</div>'\n",
    "              +'</div>'\n",
    "        ,\n",
    "        btn:['保存','取消'],\n",
    "        btn1: function (index,layero) {\n",
    "        },\n",
    "        btn2:function (index,layero) {\n",
    "             layer.close(index);\n",
    "        }\n",
    " \n",
    "    });    \n",
    "        \n",
    "    })\n",
    "\n",
    "\n",
    "\n",
    "//content中id val的获取\n",
    "\n",
    "    $(\"body\").on(\"click\",\".edit_desc\",function(){\n",
    "        \n",
    "      var index =  layer.open({\n",
    "        id:1,\n",
    "        type: 1,\n",
    "        title:'Update Description',\n",
    "        skin:'layui-layer-rim',\n",
    "        area:['450px', 'auto'],\n",
    "            \n",
    "        content: ' <div class=\"row\" style=\"width: 420px;  margin-left:7px; margin-top:10px;\">'\n",
    "            +'<div class=\"col-sm-12\">'\n",
    "            +'<div class=\"input-group\">'\n",
    "            //+'<span class=\"input-group-addon\"> 新 密 码   :</span>'\n",
    "            +'<textarea name=\"desc\" placeholder=\"请输入内容\" class=\"layui-textarea\" id=\"form_edit_desc\" style=\"width: 390px;\"></textarea>'\n",
    "            +'</div>'\n",
    "            +'</div>'\n",
    "              +'</div>'\n",
    "        ,\n",
    "        btn:['保存描述','取消'],\n",
    "        btn1: function (index,layero) {\n",
    "         console.log('edit_desc',$(\"#form_edit_desc\").val()) \n",
    "        //post/get回调函数在此定义\n",
    "        },\n",
    "        btn2:function (index,layero) {\n",
    "             layer.close(index);\n",
    "        }\n",
    " \n",
    "    });    \n",
    "        \n",
    "    })"
   ]
  },
  {
   "cell_type": "code",
   "execution_count": 1,
   "metadata": {},
   "outputs": [
    {
     "name": "stdout",
     "output_type": "stream",
     "text": [
      "Writing addCommasToNumber.js\n"
     ]
    }
   ],
   "source": [
    "%%file addCommasToNumber.js\n",
    "//给数字添加逗号--美元数字:10,000\n",
    "// Add commas to a number\n",
    "my={\n",
    "    \n",
    "}\n",
    "    my.addCommas = function (n) {\n",
    "      while (/(\\d+)(\\d{3})/.test(n.toString())) {\n",
    "        n = n.toString().replace(/(\\d+)(\\d{3})/, '$1'+','+'$2');\n",
    "      }\n",
    "      return n;\n",
    "};"
   ]
  },
  {
   "cell_type": "code",
   "execution_count": 1,
   "metadata": {},
   "outputs": [
    {
     "name": "stdout",
     "output_type": "stream",
     "text": [
      "Writing get_param_from_url.js\n"
     ]
    }
   ],
   "source": [
    "%%file get_param_from_url.js\n",
    "    /*获取URL传过来的参数*/\n",
    "    function get_request_args(argname){  \n",
    "        var url = decodeURI(document.location.href);//需要解码，一些参数有空格等\n",
    "        var arrStr = url.substring(url.indexOf(\"?\")+1).split(\"/\");//根据实际页面修改\n",
    "        //console.log('arrStr',arrStr);\n",
    "        for(var i = 0; i < arrStr.length; i++) {\n",
    "            var loc = arrStr[i].indexOf(argname+\"=\");  \n",
    "            if(loc != -1){\n",
    "                //console.log('loc',loc);\n",
    "                return arrStr[i].replace(argname+\"=\",\"\").replace(\"?\",\"\");\n",
    "                break;\n",
    "            }\n",
    "        }\n",
    "        return \"\";\n",
    "    }\n",
    "    var TagName = get_request_args(\"tag\"); //http://0.0.0.0:9010/tags/tag=recommendation"
   ]
  },
  {
   "cell_type": "code",
   "execution_count": null,
   "metadata": {},
   "outputs": [],
   "source": []
  }
 ],
 "metadata": {
  "kernelspec": {
   "display_name": "Python 2",
   "language": "python",
   "name": "python2"
  },
  "language_info": {
   "codemirror_mode": {
    "name": "ipython",
    "version": 2
   },
   "file_extension": ".py",
   "mimetype": "text/x-python",
   "name": "python",
   "nbconvert_exporter": "python",
   "pygments_lexer": "ipython2",
   "version": "2.7.13"
  }
 },
 "nbformat": 4,
 "nbformat_minor": 2
}
